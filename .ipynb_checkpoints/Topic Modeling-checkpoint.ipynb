{
 "cells": [
  {
   "cell_type": "markdown",
   "metadata": {},
   "source": [
    "# State of the Union\n",
    "[WikiPage](https://en.wikipedia.org/wiki/State_of_the_Union)\n",
    "\n",
    "The address not only reports on the condition of the nation but also allows the President to outline his legislative agenda (for which he needs the cooperation of Congress) and national priorities.\n"
   ]
  },
  {
   "cell_type": "code",
   "execution_count": 48,
   "metadata": {
    "collapsed": true
   },
   "outputs": [],
   "source": [
    "import csv, json\n",
    "# How to install Stanford Parser to nltk, I didn't use it eventually.\n",
    "# http://stackoverflow.com/questions/13883277/stanford-parser-and-nltk/34112695#34112695\n",
    "from nltk.tokenize import StanfordTokenizer\n",
    "from nltk.tokenize import word_tokenize\n",
    "from nltk.corpus import stopwords"
   ]
  },
  {
   "cell_type": "code",
   "execution_count": 37,
   "metadata": {
    "collapsed": false
   },
   "outputs": [],
   "source": [
    "FILE_NAME = 'state-of-the-union.csv'\n",
    "csv.field_size_limit(1000000000)\n",
    "\n",
    "speech_data = open(FILE_NAME)\n",
    "speeches = csv.reader(speech_data)\n",
    "\n",
    "# while reading with csv reader, values are seperated by , in each row.\n",
    "# Extract only the document here\n",
    "years, docs = [list(a) for a in zip(*speeches)]"
   ]
  },
  {
   "cell_type": "markdown",
   "metadata": {},
   "source": [
    "# Corpus Preprocessing"
   ]
  },
  {
   "cell_type": "code",
   "execution_count": 157,
   "metadata": {
    "collapsed": false
   },
   "outputs": [],
   "source": [
    "# 1. Lower all letter first\n",
    "# 2. Remove contractions\n",
    "# 3. tokenize\n",
    "# 4. remove stopwords and punctuation\n",
    "\n",
    "# replace contraction\n",
    "docs = [doc.lower() for doc in docs]\n",
    "docs = [expandContractions(doc) for doc in docs]\n",
    "\n",
    "# remove header\n",
    "# header means information like \n",
    "docs = [remove_header(doc) for doc in docs]\n",
    "\n",
    "# tokenize\n",
    "stop_words = stopwords.words('english')\n",
    "texts = [[ token for token in word_tokenize(doc) ] for doc in docs]\n",
    "texts = [[token for token in text if not token in stop_words] for text in texts]\n",
    "\n",
    "# remove punctuations\n",
    "texts = [[token for token in text if not isPunctuation(token)] for text in texts]"
   ]
  },
  {
   "cell_type": "markdown",
   "metadata": {},
   "source": [
    "### Stemming\n",
    "Why? In several previous model building, we see terrorists and terrorist as different features. I don't think this gives me less information about the topic that I'm modeling. By combining them, I believe it could show me more other word features.\n",
    "\n",
    "### Porter Stemmer\n"
   ]
  },
  {
   "cell_type": "code",
   "execution_count": 158,
   "metadata": {
    "collapsed": true
   },
   "outputs": [],
   "source": [
    "# Stemming\n",
    "# REF: http://www.nltk.org/api/nltk.stem.html\n",
    "\n",
    "from nltk.stem.porter import *\n",
    "stemmer = PorterStemmer()\n",
    "\n",
    "texts = [[stemmer.stem(token) for token in text] for text in texts]"
   ]
  },
  {
   "cell_type": "code",
   "execution_count": 159,
   "metadata": {
    "collapsed": false
   },
   "outputs": [],
   "source": [
    "# remove words that appeared only once\n",
    "# consider? Why one? Why not two?\n",
    "from collections import defaultdict\n",
    "frequency = defaultdict(int)\n",
    "\n",
    "for text in texts:\n",
    "    for token in text:\n",
    "        frequency[token] += 1\n",
    "        \n",
    "texts = [[token for token in text if frequency[token] > 1] \n",
    "         for text in texts]"
   ]
  },
  {
   "cell_type": "code",
   "execution_count": 177,
   "metadata": {
    "collapsed": false
   },
   "outputs": [
    {
     "name": "stdout",
     "output_type": "stream",
     "text": [
      "Dictionary(10933 unique tokens: ['reli', 'undeclar', 'dislik', 'p.', 'curs']...)\n"
     ]
    }
   ],
   "source": [
    "from gensim import models, corpora\n",
    "dictionary = corpora.Dictionary(texts)\n",
    "\n",
    "# take a peek that it actually got converted\n",
    "# print(dictionary)\n",
    "# print(dictionary.token2id)"
   ]
  },
  {
   "cell_type": "code",
   "execution_count": 161,
   "metadata": {
    "collapsed": false
   },
   "outputs": [],
   "source": [
    "# turn all the documents into bag of words representation\n",
    "corpus = [dictionary.doc2bow(text) for text in texts]"
   ]
  },
  {
   "cell_type": "code",
   "execution_count": 162,
   "metadata": {
    "collapsed": false
   },
   "outputs": [],
   "source": [
    "# Initialize tf-idf model\n",
    "tfidf = models.TfidfModel(corpus)"
   ]
  },
  {
   "cell_type": "code",
   "execution_count": 239,
   "metadata": {
    "collapsed": true
   },
   "outputs": [],
   "source": [
    "tfidf_corpus = tfidf[corpus]\n",
    "lsi = models.LsiModel(tfidf_corpus, id2word=dictionary, num_topics=100)"
   ]
  },
  {
   "cell_type": "code",
   "execution_count": null,
   "metadata": {
    "collapsed": false
   },
   "outputs": [],
   "source": [
    "# show the latent space...\n",
    "lsi.show_topics()"
   ]
  },
  {
   "cell_type": "code",
   "execution_count": null,
   "metadata": {
    "collapsed": false
   },
   "outputs": [],
   "source": [
    "# Show the result of each document projected into the latent space.\n",
    "corpus_lsi = lsi[tfidf_corpus]\n",
    "for i, c_lsi in enumerate(corpus_lsi):\n",
    "    print(\"{}th document: {}\".format(i, sorted(c_lsi, key=lambda x: x[1], reverse=True)[0:3] ))"
   ]
  },
  {
   "cell_type": "markdown",
   "metadata": {},
   "source": [
    "# Figuring out what's the best number of topics\n",
    "By selecting too small amount, they all go to the same topics, and by selecting too many the all belong to thier own. Try to run over a series of value and try to find an appropriate number for topics by plotting. According to some of the googling online, the best way of figuring out the number of topics is to compare the result and pick one that best fits my requirements. "
   ]
  },
  {
   "cell_type": "code",
   "execution_count": 246,
   "metadata": {
    "collapsed": false
   },
   "outputs": [
    {
     "data": {
      "image/png": "[encoded data removed]",
      "text/plain": [
       "<matplotlib.figure.Figure at 0x114e0a390>"
      ]
     },
     "metadata": {},
     "output_type": "display_data"
    }
   ],
   "source": [
    "span = []\n",
    "for k in range(1, 200):\n",
    "    lsi = models.LsiModel(tfidf_corpus, id2word=dictionary, num_topics=k)\n",
    "    # Show the result of each document projected into the latent space.\n",
    "    corpus_lsi = lsi[tfidf_corpus]\n",
    "    used_topics = set()\n",
    "    for i, c_lsi in enumerate(corpus_lsi):\n",
    "        # find max probability topic for each doc\n",
    "        max_tuple = max(c_lsi, key=lambda x: x[1])\n",
    "        used_topics.add(max_tuple[0])\n",
    "    \n",
    "    span.append(len(used_topics))\n",
    "    \n",
    "import matplotlib.pyplot as plt\n",
    "%matplotlib inline  \n",
    "plt.plot(span)\n",
    "plt.show()"
   ]
  },
  {
   "cell_type": "markdown",
   "metadata": {},
   "source": [
    "# Observing the above plotting result\n",
    "The horizontal axis is `k`, the number of topics. The vertical axis means the number of appeared unique topics(I only used the topic with highest probability, and this is dangerous since probabilist LSA gives the power of having multiple topics in a document). For example if the four documents are to be projected into {1,1,2,2}, than the value is going to be 2. In my opinion, I think there are three phases in this progress. \n",
    "\n",
    "### The first phase:\n",
    "There are still not much projection spaces that could be taken into consideration, and thus the most appeared words are just going to be considered as importance features for topics. Taking `k=2` for consideration, if they have a large amount of word count, it means that it is probably included in a lot of documents, and the process of projecting is to find the largest variance between the two topics, than if there appears to have several documents that doens't use this much of these vocabularies, than the variance would be big, and this projection would be selected. Like **program: 1238, upon:3939, tonight: 464, mexico: 852, job: 624...**. There are also a lot of token that appears even more times but I believe it's just that they are seperated more evenly between documents, like **State: 8689, nation: 5995, govern: 7917.**\n",
    "\n",
    "### First phase result, e.g. k = 2\n",
    "[(0,\n",
    "  '0.093*\"program\" + 0.079*\"upon\" + 0.066*\"tonight\" + 0.066*\"help\" + 0.062*\"territori\" + 0.061*\"mexico\" + 0.060*\"job\" + 0.060*\"bank\" + 0.058*\"indian\" + 0.058*\"subject\"'),\n",
    " (1,\n",
    "  '0.207*\"program\" + 0.206*\"tonight\" + 0.172*\"job\" + 0.155*\"help\" + 0.133*\"budget\" + 0.110*\"today\" + 0.106*\"billion\" + 0.098*\"spend\" + 0.098*\"soviet\" + 0.097*\"percent\"')]\n",
    "\n"
   ]
  },
  {
   "cell_type": "markdown",
   "metadata": {},
   "source": [
    "### The second Phase:\n",
    "In this phase, I think it's where documents specific features get to be seen. I'm not sure about the big jump there, but I hope that's a sign that features of really general terms get to be excluded since that point around `k=50`. During this phase, diverse topics get to be included. The topics here might not be the one that we're trying to map such as **employment, international affairs, resources, interstate affair and war.** The documents here are kind of struggling to get out of the really generic classification of phase one. A lot of documents are categorized into the first(idx=0) topic. This topic has some really interesting features. \n",
    "\n",
    "```\n",
    "[('program', -0.093397124480330732), ('upon', -0.079132591127145019), ('tonight', -0.06623436012454928), ('help', -0.066176780870599569), ('territori', -0.061835811291247961), ('mexico', -0.06058065025508811), ('job', -0.060119986642816238), ('bank', -0.059575397169012188), ('indian', -0.058327010714429327), ('subject', -0.058196360566384039)]\n",
    "```\n",
    "\n",
    "This is a topic with only negative features, which means documents in this category are the ones that are just far from the others, but the have yet find out what's special among them. The following two blocks are plotting the topic modeling result of case k=100 as an example.\n",
    "\n",
    "### Second phase result, e.g. k = 100"
   ]
  },
  {
   "cell_type": "code",
   "execution_count": 273,
   "metadata": {
    "collapsed": false
   },
   "outputs": [
    {
     "name": "stdout",
     "output_type": "stream",
     "text": [
      "{1: 32, 2: 16, 3: 11, 4: 12, 5: 11, 6: 9, 7: 6, 8: 5, 9: 3, 10: 2, 11: 6, 12: 3, 13: 4, 14: 4, 15: 4, 16: 3, 17: 5, 19: 3, 20: 4, 21: 2, 22: 1, 23: 1, 24: 1, 26: 3, 27: 3, 30: 3, 31: 4, 32: 1, 33: 1, 34: 2, 35: 1, 36: 1, 37: 1, 38: 1, 40: 4, 41: 1, 42: 1, 43: 2, 45: 1, 46: 2, 47: 1, 48: 2, 49: 1, 50: 2, 52: 2, 53: 1, 56: 2, 57: 1, 58: 2, 59: 1, 61: 1, 63: 2, 64: 1, 69: 1, 70: 1, 71: 2, 72: 1, 73: 2, 74: 2, 75: 1, 76: 1, 79: 1, 80: 1, 81: 3, 82: 2, 83: 1, 84: 2, 89: 1, 90: 2, 91: 1, 93: 1, 94: 1}\n"
     ]
    }
   ],
   "source": [
    "# Taking k=100 as an example.\n",
    "lsi_100 = models.LsiModel(tfidf_corpus, id2word=dictionary, num_topics=100)\n",
    "topic_100_counter = {}\n",
    "doc_100_topics = lsi_100[tfidf_corpus]\n",
    "for doc in doc_100_topics:\n",
    "    # find the topic category with the highest probability\n",
    "    # and count it\n",
    "    max_tuple = max(doc, key=lambda x: x[1])\n",
    "    if not max_tuple[0] in topic_100_counter:\n",
    "        topic_100_counter[max_tuple[0]] = 1\n",
    "    else:\n",
    "        topic_100_counter[max_tuple[0]] += 1\n",
    "        \n",
    "print(topic_100_counter)"
   ]
  },
  {
   "cell_type": "code",
   "execution_count": 274,
   "metadata": {
    "collapsed": false
   },
   "outputs": [
    {
     "data": {
      "image/png": "[encoded data removed]",
      "text/plain": [
       "<matplotlib.figure.Figure at 0x1151dbc18>"
      ]
     },
     "metadata": {},
     "output_type": "display_data"
    },
    {
     "name": "stdout",
     "output_type": "stream",
     "text": [
      "[('program', -0.20676388928033471), ('tonight', -0.20590187697144197), ('job', -0.17221190601136055), ('help', -0.15508803524779805), ('budget', -0.13332979718538762), ('today', -0.11001625329195873), ('billion', -0.10566912698349767), ('spend', -0.097900323722962312), ('soviet', -0.097579058030101806), ('percent', -0.09673352792625646)]\n"
     ]
    }
   ],
   "source": [
    "import numpy as np\n",
    "plt.bar(np.arange(len(topic_100_counter.keys())), topic_100_counter.values())\n",
    "plt.show()\n",
    "\n",
    "# show the feautures of the first topic.\n",
    "\n",
    "print(lsi_100.show_topic(1))"
   ]
  },
  {
   "cell_type": "markdown",
   "metadata": {},
   "source": [
    "### Third Phase"
   ]
  },
  {
   "cell_type": "markdown",
   "metadata": {},
   "source": [
    "Ok, to be honest, I was hoping that the third phase was a converged result of several outstanding topics, but turned out they are back to crap. Therefore I guess I will pick the number from the range **50-130**.\n",
    "Or maybe this data just reveiled that during most of the State of the union speech, they talk a lot about **bank, terrorist, helping allies, providing jobs and such...**\n",
    "\n",
    "The following visualized the counting of the topic with highest probability for each documents. "
   ]
  },
  {
   "cell_type": "code",
   "execution_count": 275,
   "metadata": {
    "collapsed": false
   },
   "outputs": [
    {
     "name": "stdout",
     "output_type": "stream",
     "text": [
      "{0: 207, 33: 1, 75: 1, 6: 1, 38: 1, 39: 1, 9: 2, 10: 1, 43: 1, 13: 3, 78: 1, 45: 1, 49: 1, 53: 1, 54: 1, 46: 1, 47: 1}\n"
     ]
    },
    {
     "data": {
      "image/png": "[encoded data removed]",
      "text/plain": [
       "<matplotlib.figure.Figure at 0x1147435f8>"
      ]
     },
     "metadata": {},
     "output_type": "display_data"
    },
    {
     "name": "stdout",
     "output_type": "stream",
     "text": [
      "[('program', 0.093397437503941388), ('upon', 0.079132722230692176), ('tonight', 0.06623518088964786), ('help', 0.06617683724780353), ('territori', 0.061835567385379729), ('mexico', 0.060580161569276605), ('job', 0.060119803006730213), ('bank', 0.059574858193892855), ('indian', 0.05832620352689992), ('subject', 0.058195957759279889)]\n"
     ]
    }
   ],
   "source": [
    "# Taking k=130 as an example.\n",
    "lsi_130 = models.LsiModel(tfidf_corpus, id2word=dictionary, num_topics=130)\n",
    "topic_130_counter = {}\n",
    "doc_130_topics = lsi_130[tfidf_corpus]\n",
    "for doc in doc_130_topics:\n",
    "    # find the topic category with the highest probability\n",
    "    # and count it\n",
    "    max_tuple = max(doc, key=lambda x: x[1])\n",
    "    if not max_tuple[0] in topic_130_counter:\n",
    "        topic_130_counter[max_tuple[0]] = 1\n",
    "    else:\n",
    "        topic_130_counter[max_tuple[0]] += 1\n",
    "        \n",
    "print(topic_130_counter)\n",
    "\n",
    "plt.bar(np.arange(len(topic_130_counter.keys())), topic_130_counter.values())\n",
    "plt.show()\n",
    "\n",
    "# show the feautures of the first topic.\n",
    "print(lsi_130.show_topic(0))"
   ]
  },
  {
   "cell_type": "code",
   "execution_count": null,
   "metadata": {
    "collapsed": true
   },
   "outputs": [],
   "source": [
    "# Just for fun, plotting the top three "
   ]
  },
  {
   "cell_type": "code",
   "execution_count": 154,
   "metadata": {
    "collapsed": false
   },
   "outputs": [],
   "source": [
    "# REF: http://devpost.com/software/contraction-expander\n",
    "# before doing this, there were a lot of \"'t\" and \"'re\" in the lsi model, which wasn't helpful at all.\n",
    "# Well, I mean mathametically it does tell me that it appears pretty often, but not mapping any topic to the real world.\n",
    "# After doing this, more useful words appeared.\n",
    "\n",
    "import re\n",
    "contraction_file = open('./contraction.json')\n",
    "contraction_dict = json.load(contraction_file)\n",
    "c_re = re.compile('(%s)' % '|'.join(contraction_dict.keys()))\n",
    "\n",
    "def expandContractions(text, c_re=c_re):\n",
    "    def replace(match):\n",
    "        return contraction_dict[match.group(0)]\n",
    "    return c_re.sub(replace, text)"
   ]
  },
  {
   "cell_type": "code",
   "execution_count": 155,
   "metadata": {
    "collapsed": false
   },
   "outputs": [],
   "source": [
    "# The reason of writing this function is that I observed that part of the speeches included gentlmen while they \n",
    "# adress this speech. We can claim that how you start your speech is a feature, but I don't think this is\n",
    "# what we're trying to do, as topic modeling here. Therefore I believe by removing the date, year, name of president\n",
    "# we can have better and clearer view of what the content of the speech really is. \n",
    "# (To be honest the president's name doesn't have a great impact on the model)\n",
    "\n",
    "def remove_header(doc):\n",
    "    '''\n",
    "    A function that returns a shorten document that removed the date of the state of union speech,\n",
    "    the speaker, and most important of all, who this speech is addressed to. Implemented by finding the first \":\". \n",
    "    Some cases doesn't match this condition and thus, We remove all the text before the appearance of 19xx, by \n",
    "    using regex.\n",
    "    \n",
    "    INPUT: doc - string\n",
    "    return: string\n",
    "    '''\n",
    "    \n",
    "    # find the first appearance of :, if it's close to the start of document enough than we are\n",
    "    # sure that it has finished addressing the congress and fellow americans\n",
    "    addressing = doc[0: (doc.find(':') + 1)]\n",
    "    if len(addressing) > 250:\n",
    "        match = re.search('[0-9][0-9][0-9]+', doc[0:200])\n",
    "        if match:\n",
    "            return doc[match.start()+4:]\n",
    "    else:\n",
    "        return doc[doc.find(\":\") + 1:]\n",
    "    "
   ]
  },
  {
   "cell_type": "code",
   "execution_count": 156,
   "metadata": {
    "collapsed": true
   },
   "outputs": [],
   "source": [
    "import string\n",
    "\n",
    "def isPunctuation(token):\n",
    "    '''\n",
    "    Implemented this function is to include the special case of the appearance of \n",
    "    -- string. There are so many of them in the document that it became a feature.\n",
    "    In my opinion, this kind of use doesn't really have a direct mapping of the content\n",
    "    this speaker is talking about. You can argue that it is more of how often the speaker \n",
    "    use this kind of pattern.\n",
    "    \n",
    "    Writing this function gives me a space to tackle all problems of punctuation, and better code\n",
    "    readability.\n",
    "    \n",
    "    INPUT: token - string\n",
    "    RETURN: boolean\n",
    "    '''\n",
    "    if token == '--':\n",
    "        return True\n",
    "    if token in string.punctuation:\n",
    "        return True\n",
    "    else:\n",
    "        return False\n",
    "    "
   ]
  },
  {
   "cell_type": "markdown",
   "metadata": {},
   "source": [
    "# Special Cases discovered\n",
    "1. william h. taft, december 7, 1909. He didn't address the speech to a particular group of people, or is it just missing from the data\n",
    "2. Gentlemen of the congress, I don't know whether this is sexist or not...\n",
    "3. calvin coolidge, decemeber 6, 1923. He didn't address the speech to a particular group as well.\n",
    "4. dwight d. eisenhower address the 86th congress"
   ]
  },
  {
   "cell_type": "markdown",
   "metadata": {},
   "source": [
    "[How to update StanfordParser?](http://stackoverflow.com/questions/13883277/stanford-parser-and-nltk/34112695#34112695)"
   ]
  },
  {
   "cell_type": "markdown",
   "metadata": {},
   "source": [
    "# 1.3 Do LSI Topic Modeling\n",
    "\n",
    "#### References\n",
    "- [A read for reviewing LSI](http://lsa.colorado.edu/papers/dp1.LSAintro.pdf)\n",
    "- [Stanford NLP LSI intro](http://nlp.stanford.edu/IR-book/html/htmledition/latent-semantic-indexing-1.html)\n",
    "\n",
    "\n",
    "\n",
    "### Randomly select ten topics to annotate\n",
    "At first I randomly picked 30 as the number of topics that I want without any reason. These are some of the topics combination.\n",
    "```\n",
    "[(0,\n",
    "  '0.093*\"program\" + 0.079*\"upon\" + 0.066*\"tonight\" + 0.066*\"help\" + 0.062*\"territori\" + 0.061*\"mexico\" + 0.060*\"job\" + 0.060*\"bank\" + 0.058*\"indian\" + 0.058*\"subject\"'),\n",
    " (1,\n",
    "  '-0.207*\"program\" + -0.206*\"tonight\" + -0.172*\"job\" + -0.155*\"help\" + -0.133*\"budget\" + -0.110*\"today\" + -0.106*\"billion\" + -0.098*\"spend\" + -0.098*\"soviet\" + -0.097*\"percent\"'),\n",
    " (2,\n",
    "  '0.202*\"tonight\" + 0.120*\"terrorist\" + -0.106*\"program\" + 0.106*\"job\" + 0.100*\"iraq\" + -0.095*\"method\" + -0.095*\"interst\" + -0.086*\"cent\" + 0.078*\"iraqi\" + -0.077*\"farm\"'),\n",
    "...\n",
    "...\n",
    "...\n",
    " (23,\n",
    "  '-0.122*\"communist\" + -0.116*\"1911\" + -0.096*\"gold\" + -0.086*\"job\" + -0.086*\"wool\" + -0.077*\"texa\" + -0.077*\"1910\" + 0.075*\"french\" + -0.073*\"1909\" + -0.070*\"deficit\"'),\n",
    " (24,\n",
    "  '-0.134*\"...\" + 0.102*\"vietnam\" + 0.098*\"job\" + 0.096*\"soviet\" + 0.095*\"1827\" + 0.082*\"silver\" + -0.079*\"insurg\" + 0.079*\"recoveri\" + -0.079*\"1899\" + 0.078*\"communist\"'),\n",
    " (25,\n",
    "  '0.134*\"gold\" + -0.120*\"...\" + -0.114*\"wool\" + -0.105*\"vietnam\" + 0.104*\"silver\" + -0.102*\"insurg\" + -0.095*\"tariff\" + 0.082*\"1827\" + 0.081*\"currenc\" + 0.078*\"circul\"'),\n",
    " (26,\n",
    "  '-0.162*\"wool\" + -0.136*\"1911\" + 0.113*\"1899\" + 0.105*\"cuba\" + 0.101*\"1898\" + 0.095*\"recoveri\" + -0.093*\"goal\" + -0.091*\"tariff\" + -0.086*\"1909\" + 0.084*\"1897\"'),\n",
    " (27,\n",
    "  '-0.265*\"...\" + -0.126*\"1946\" + -0.125*\"1947\" + -0.120*\"soviet\" + -0.114*\"1947.\" + -0.100*\"1945\" + -0.100*\"tonight\" + 0.084*\"today\" + -0.077*\"bargain\" + -0.075*\"budget\"'),\n",
    " (28,\n",
    "  '-0.114*\"1892\" + -0.099*\"goal\" + -0.095*\"bank\" + -0.084*\"1891\" + -0.082*\"1890\" + 0.080*\"wool\" + -0.072*\"92d\" + -0.068*\"philadelphia\" + 0.067*\"budget\" + 0.064*\"saddam\"'),\n",
    " (29,\n",
    "  '-0.131*\"21st\" + 0.107*\"communist\" + -0.103*\"oil\" + -0.101*\"saddam\" + 0.100*\"dream\" + -0.096*\"challeng\" + -0.087*\"medicar\" + 0.082*\"deficit\" + -0.081*\"hussein\" + 0.080*\"spend\"')]\n",
    "```\n",
    "\n",
    "### Randomly Selected Annotations\n",
    "#### Topic 12\n",
    "```\n",
    "(12,\n",
    "  '0.218*\"mexico\" + 0.184*\"texa\" + 0.128*\"mexican\" + 0.097*\"enemi\" + 0.089*\"annex\" + -0.086*\"slaveri\" + -0.086*\"spain\" + 0.085*\"1942\" + -0.083*\"slave\" + 0.083*\"1911\"')\n",
    "```\n",
    "- This topic has the highest feature weight for mexican + mexico in the given 30 topics that I picked. It also has a positive value for Texas. I checked several documents that has the most weight on this topic, for example document 56, in 1845. It was the time where Texas just about to join the union. The appearance of annex, the prefix of annexation, also showed another important feature of this topic. At that time, Mexico, paid a visit to the states and expressed their opinion on Texas joining the union and the speaker spent a long paragraph commenting on that. In short, this topic is mainly about Texas joining the union, and the speech from 1845-1857 should all be classified as this topic.\n",
    "\n",
    "#### Topic 29\n",
    "```\n",
    "(29,\n",
    "  '-0.131*\"21st\" + 0.107*\"communist\" + -0.103*\"oil\" + -0.101*\"saddam\" + 0.100*\"dream\" + -0.096*\"challeng\" + -0.087*\"medicar\" + 0.082*\"deficit\" + -0.081*\"hussein\" + 0.080*\"spend\"')\n",
    "```\n",
    "- This topic has oil, 21st, medicare and dream in it. It sounds like a modern speech given by Obama. It also has 'deficit' with a positive coefficient in the topic, which only appeared twice, among all 30 topics. This probably means that these corpus are somewhere near the time of a serious deficit. I checked the several documents that has the highest probability of being categorized as this topic, there are two, 2010 and 2011, where the second worst deficit ever happened to the U.S. In short, I would say this category are about **21st century challenges and dreams of the States.**\n",
    "\n",
    "\n"
   ]
  },
  {
   "cell_type": "code",
   "execution_count": 283,
   "metadata": {
    "collapsed": false
   },
   "outputs": [
    {
     "data": {
      "text/plain": [
       "[(19,\n",
       "  '0.209*\"soviet\" + -0.158*\"job\" + 0.132*\"democraci\" + -0.127*\"japanes\" + -0.114*\"program\" + -0.112*\"1942\" + -0.093*\"hitler\" + 0.085*\"savag\" + -0.084*\"nurs\" + 0.081*\"tonight\"'),\n",
       " (35,\n",
       "  '-0.129*\"democraci\" + 0.115*\"wool\" + -0.096*\"1892\" + -0.089*\"seminari\" + 0.087*\"missil\" + -0.085*\"california\" + 0.085*\"...\" + -0.084*\"1890\" + 0.076*\"savag\" + 0.071*\"sheep\"'),\n",
       " (0,\n",
       "  '-0.093*\"program\" + -0.079*\"upon\" + -0.066*\"tonight\" + -0.066*\"help\" + -0.062*\"territori\" + -0.061*\"mexico\" + -0.060*\"job\" + -0.060*\"bank\" + -0.058*\"indian\" + -0.058*\"subject\"'),\n",
       " (17,\n",
       "  '-0.119*\"kansa\" + 0.117*\"job\" + 0.108*\"oil\" + -0.099*\"communist\" + -0.093*\"1890\" + 0.090*\"speci\" + 0.090*\"1869\" + 0.088*\"enemi\" + -0.088*\"1892\" + -0.088*\"democraci\"'),\n",
       " (64,\n",
       "  '-0.096*\"cabl\" + -0.083*\"1973\" + 0.083*\"soviet\" + -0.081*\"...\" + 0.071*\"eight-hour\" + 0.068*\"exchequ\" + 0.067*\"battleship\" + 0.062*\"scout\" + 0.060*\"submarin\" + 0.058*\"1888\"'),\n",
       " (93,\n",
       "  '-0.099*\"cabl\" + 0.090*\"wool\" + -0.074*\"eight-hour\" + 0.071*\"decre\" + 0.063*\"spanish\" + -0.059*\"seed\" + -0.057*\"hire\" + 0.057*\"democraci\" + 0.057*\"nomine\" + 0.056*\"1975\"'),\n",
       " (37,\n",
       "  '0.113*\"saddam\" + 0.106*\"1973\" + 0.090*\"iraq\" + -0.087*\"nuclear\" + -0.085*\"terrorist\" + 0.084*\"vietnam\" + -0.073*\"poverti\" + 0.072*\"atom\" + -0.069*\"seminari\" + -0.068*\"emancip\"'),\n",
       " (70,\n",
       "  '-0.108*\"1973\" + 0.092*\"acr\" + 0.080*\"greytown\" + 0.075*\"nomine\" + 0.069*\"cyan\" + -0.064*\"1884\" + 0.064*\"1893\" + -0.064*\"decre\" + -0.060*\"polygami\" + 0.058*\"huerta\"'),\n",
       " (77,\n",
       "  '0.105*\"wool\" + -0.077*\"texa\" + 0.066*\"disavow\" + -0.064*\"unrest\" + -0.062*\"eighti\" + -0.062*\"convent\" + 0.058*\"panama\" + 0.055*\"communist\" + -0.055*\"1878\" + -0.055*\"stipul\"'),\n",
       " (66,\n",
       "  '-0.096*\"program\" + 0.093*\"inflat\" + -0.078*\"unrest\" + 0.077*\"democraci\" + -0.075*\"circuit\" + -0.068*\"democrat\" + 0.068*\"billion\" + -0.064*\"challeng\" + -0.063*\"panama\" + -0.062*\"1932\"')]"
      ]
     },
     "execution_count": 283,
     "metadata": {},
     "output_type": "execute_result"
    }
   ],
   "source": [
    "# Picking 100 as topics and random selecting ten topics to annotate.\n",
    "lsi_pick = models.LsiModel(tfidf_corpus, id2word=dictionary, num_topics=100)\n",
    "\n",
    "# randomly pick ten from its topics\n",
    "from random import sample\n",
    "ten_topics = sample(lsi_pick.show_topics(), 10)\n",
    "ten_topics"
   ]
  },
  {
   "cell_type": "code",
   "execution_count": null,
   "metadata": {
    "collapsed": false
   },
   "outputs": [],
   "source": [
    "# Show all documents that \n",
    "topic_index = 66\n",
    "\n",
    "lsi_pick_result = lsi_pick[tfidf_corpus]\n",
    "for i, doc in enumerate(lsi_pick_result):\n",
    "    if doc[topic_index][1] > 0.1:\n",
    "        print('idx:{}, year:{},:{}'.format(i, years[i],docs[i]))\n",
    "# lsi_pick[tfidf_corpus][10]"
   ]
  },
  {
   "cell_type": "markdown",
   "metadata": {},
   "source": [
    "# Ten Annotations for Seriously Selected topics k = 100\n",
    "\n",
    "`(19, '0.209*\"soviet\" + -0.158*\"job\" + 0.132*\"democraci\" + -0.127*\"japanes\" + -0.114*\"program\" + -0.112*\"1942\" + -0.093*\"hitler\" + 0.085*\"savag\" + -0.084*\"nurs\" + 0.081*\"tonight\"')`\n",
    "- I think this one is pretty clear that they are talking something Japanese, Hitlar and Soviet are all involved and happened between 1939-1945.\n",
    "\n",
    "`(35, '-0.129*\"democraci\" + 0.115*\"wool\" + -0.096*\"1892\" + -0.089*\"seminari\" + 0.087*\"missil\" + -0.085*\"california\" + 0.085*\"...\" + -0.084*\"1890\" + 0.076*\"savag\" + 0.071*\"sheep\"')`\n",
    "- This one seems to care a lot about sheep and wool. I searched and found his name -- Grover Cleveland, he indeed cares a lot about farmers and veterans.\n",
    "\n",
    "`(0, '-0.093*\"program\" + -0.079*\"upon\" + -0.066*\"tonight\" + -0.066*\"help\" + -0.062*\"territori\" + -0.061*\"mexico\" + -0.060*\"job\" + -0.060*\"bank\" + -0.058*\"indian\" + -0.058*\"subject\"')`\n",
    "- Most of them are negative and a lot of documents seems to have a large probability of dropping into this topic, this might just be a topic that's really far away from other topics.\n",
    "\n",
    "`(17, '-0.119*\"kansa\" + 0.117*\"job\" + 0.108*\"oil\" + -0.099*\"communist\" + -0.093*\"1890\" + 0.090*\"speci\" + 0.090*\"1869\" + 0.088*\"enemi\" + -0.088*\"1892\" + -0.088*\"democraci\"')`\n",
    "- I guess this kind of speech mentioned a lot of data or historical events during the State of the union speech. \n",
    "\n",
    "`(64, '-0.096*\"cabl\" + -0.083*\"1973\" + 0.083*\"soviet\" + -0.081*\"...\" + 0.071*\"eight-hour\" + 0.068*\"exchequ\" + 0.067*\"battleship\" + 0.062*\"scout\" + 0.060*\"submarin\" + 0.058*\"1888\"')`\n",
    "- I am guessing this is during the war since it's related to soviet, battleship, submarine and cables. I looked for speeches that has higher than 20% probability of being categorized in this topic, it's an event about going to WWI.\n",
    "\n",
    "`(93, '-0.099*\"cabl\" + 0.090*\"wool\" + -0.074*\"eight-hour\" + 0.071*\"decre\" + 0.063*\"spanish\" + -0.059*\"seed\" + -0.057*\"hire\" + 0.057*\"democraci\" + 0.057*\"nomine\" + 0.056*\"1975\"')`\n",
    "- I searched for documents with probability higher than 15% being in this topic(since there's no document higher than 20% for this). This kind of documents might be talking about Europe governments and decrees.\n",
    "\n",
    "`(37, '0.113*\"saddam\" + 0.106*\"1973\" + 0.090*\"iraq\" + -0.087*\"nuclear\" + -0.085*\"terrorist\" + 0.084*\"vietnam\" + -0.073*\"poverti\" + 0.072*\"atom\" + -0.069*\"seminari\" + -0.068*\"emancip\"')`\n",
    "- Speech about USA having problem with Iraq, Saddam and terrorist.\n",
    "\n",
    "`(70, '-0.108*\"1973\" + 0.092*\"acr\" + 0.080*\"greytown\" + 0.075*\"nomine\" + 0.069*\"cyan\" + -0.064*\"1884\" + 0.064*\"1893\" + -0.064*\"decre\" + -0.060*\"polygami\" + 0.058*\"huerta\"')`\n",
    "- Speech about USA tackling Victoriano Huerta. It's still probably about war since Cyane seems to be a ship.\n",
    "\n",
    "`(77, '0.105*\"wool\" + -0.077*\"texa\" + 0.066*\"disavow\" + -0.064*\"unrest\" + -0.062*\"eighti\" + -0.062*\"convent\" + 0.058*\"panama\" + 0.055*\"communist\" + -0.055*\"1878\" + -0.055*\"stipul\"')`\n",
    "- I guess there's an unrest in Panama? No not at all, I don't know what is this category about.\n",
    "\n",
    "`(66, '-0.096*\"program\" + 0.093*\"inflat\" + -0.078*\"unrest\" + 0.077*\"democraci\" + -0.075*\"circuit\" + -0.068*\"democrat\" + 0.068*\"billion\" + -0.064*\"challeng\" + -0.063*\"panama\" + -0.062*\"1932\"')`\n",
    "- I think this kind of topic is also pretty general, billion might be speakers highlighting how much money they took or spent from the taxpayer."
   ]
  },
  {
   "cell_type": "markdown",
   "metadata": {},
   "source": [
    "# 1.4 Now Do LDA topic modeling\n",
    "- [How does alpha and beta affect the model?](http://datascience.stackexchange.com/questions/199/what-does-the-alpha-and-beta-hyperparameters-contribute-to-in-latent-dirichlet-a)\n",
    "- [Natural Interpretation for LDA hyperparameters](http://stats.stackexchange.com/questions/37405/natural-interpretation-for-lda-hyperparameters)\n",
    "\n",
    "Assuming symmetric Dirichlet distributions (for simplicity), a low alpha value places more weight on having each document composed of only a few dominant topics (whereas a high value will return many topics contributing to the document). Similarly, a low beta value places more weight on having each topic composed of only a few dominant words.\n",
    "\n",
    "alpha-parameters specify prior beliefs about topic sparsity/uniformity in the documents. \n",
    "\n",
    "\n",
    "### Picking number of topics\n",
    "I tried several hundreds and the result turned out to become a combination of a lot of topics. In order to narrow topics down, I prefered lower num_topics.\n",
    "\n",
    "# Ten Annotations\n",
    "\n",
    "\n",
    "`(111, '0.002*job + 0.002*iraq + 0.002*program + 0.002*today + 0.002*iraqi + 0.002*help + 0.001*tonight + 0.001*terrorist + 0.001*achiev + 0.001*communist')`\n",
    "- This looks like a combination of a lot of general terms like \"tonight, I am talking in front of you...\", like we got to make more \"jobs\". But it also includes two iraq related terms.\n",
    "\n",
    "`(86, '0.002*mexico + 0.001*cabl + 0.001*mexican + 0.001*1847 + 0.001*1846 + 0.001*territori + 0.001*steamer + 0.001*indemn + 0.001*ironclad + 0.001*telegraph')`\n",
    "- A topic about mexico(mexican, mexico) and cables(cable, telegraph).\n",
    "\n",
    "`(45, '0.002*sea-men + 0.001*natchez + 0.001*esq. + 0.001*commission + 0.001*cathol + 0.001*french + 0.001*majesti + 0.001*algier + 0.001*country-men + 0.001*regenc')`\n",
    "- A topic of relatively old terms like sea-men and country-men. \n",
    "\n",
    "`(4, '0.003*wool + 0.002*kid + 0.002*markwel + 0.002*tonight + 0.002*1911 + 0.001*statut + 0.001*panama + 0.001*anti-trust + 0.001*drug-fre + 0.001*today')`\n",
    "- A topic about fighting drugs for kids. year: 1990\n",
    "\n",
    "`(21, '0.001*nontax + 0.001*mandamu + 0.001*royalti + 0.001*hinder + 0.001*bushel + 0.001*circuit + 0.001*valuat + 0.001*tariff + 0.001*centum + 0.001*reclam')`\n",
    "- tax related, including nontax, tariff. I guess bushel comes along as well.\n",
    "\n",
    "`(25, '0.002*seventi + 0.002*clean + 0.002*program + 0.001*wool + 0.001*sheep + 0.001*tariff + 0.001*air + 0.001*today + 0.001*blame + 0.001*america')`\n",
    "- farmer related topics. Wool, sheep, tariff. Also about environment, because of clean and air.\n",
    "\n",
    "`(87, '0.003*program + 0.002*communist + 0.002*atom + 0.001*1951 + 0.001*help + 0.001*laugh + 0.001*korea + 0.001*disarma + 0.001*curtain + 0.001*fight')`\n",
    "- World War two related. Atom(nulcear), fight, communist, disarm\n",
    "\n",
    "`(66, '0.003*1973 + 0.002*soviet + 0.002*domingo + 0.002*program + 0.001*san + 0.001*goal + 0.001*spend + 0.001*texa + 0.001*plagu + 0.001*i.e.')`\n",
    "- I don't think this means anything to me.\n",
    "\n",
    "`(27, '0.000*timidli + 0.000*label + 0.000*partit + 0.000*importantli + 0.000*rid + 0.000*arabl + 0.000*thirty-two + 0.000*paint + 0.000*blot + 0.000*178')`\n",
    "- I don't think this means anything\n",
    "\n",
    "`(32, '0.002*unrest + 0.001*antagon + 0.001*dyestuff + 0.001*storag + 0.001*interst + 0.001*programm + 0.000*enmiti + 0.000*workman + 0.000*malevol + 0.000*shipment')`\n",
    "- It feels like some pretty industrial topic, since it has storage, dyestuff, workman and shipment in it.\n",
    "\n"
   ]
  },
  {
   "cell_type": "code",
   "execution_count": 392,
   "metadata": {
    "collapsed": false
   },
   "outputs": [
    {
     "name": "stderr",
     "output_type": "stream",
     "text": [
      "WARNING:gensim.models.ldamodel:too few updates, training might not converge; consider increasing the number of passes or iterations to improve accuracy\n",
      "WARNING:gensim.models.ldamodel:too few updates, training might not converge; consider increasing the number of passes or iterations to improve accuracy\n",
      "WARNING:gensim.models.ldamodel:too few updates, training might not converge; consider increasing the number of passes or iterations to improve accuracy\n",
      "WARNING:gensim.models.ldamodel:too few updates, training might not converge; consider increasing the number of passes or iterations to improve accuracy\n",
      "WARNING:gensim.models.ldamodel:too few updates, training might not converge; consider increasing the number of passes or iterations to improve accuracy\n",
      "WARNING:gensim.models.ldamodel:too few updates, training might not converge; consider increasing the number of passes or iterations to improve accuracy\n",
      "WARNING:gensim.models.ldamodel:too few updates, training might not converge; consider increasing the number of passes or iterations to improve accuracy\n",
      "WARNING:gensim.models.ldamodel:too few updates, training might not converge; consider increasing the number of passes or iterations to improve accuracy\n",
      "WARNING:gensim.models.ldamodel:too few updates, training might not converge; consider increasing the number of passes or iterations to improve accuracy\n",
      "WARNING:gensim.models.ldamodel:too few updates, training might not converge; consider increasing the number of passes or iterations to improve accuracy\n",
      "WARNING:gensim.models.ldamodel:too few updates, training might not converge; consider increasing the number of passes or iterations to improve accuracy\n",
      "WARNING:gensim.models.ldamodel:too few updates, training might not converge; consider increasing the number of passes or iterations to improve accuracy\n",
      "WARNING:gensim.models.ldamodel:too few updates, training might not converge; consider increasing the number of passes or iterations to improve accuracy\n",
      "WARNING:gensim.models.ldamodel:too few updates, training might not converge; consider increasing the number of passes or iterations to improve accuracy\n",
      "WARNING:gensim.models.ldamodel:too few updates, training might not converge; consider increasing the number of passes or iterations to improve accuracy\n",
      "WARNING:gensim.models.ldamodel:too few updates, training might not converge; consider increasing the number of passes or iterations to improve accuracy\n",
      "WARNING:gensim.models.ldamodel:too few updates, training might not converge; consider increasing the number of passes or iterations to improve accuracy\n",
      "WARNING:gensim.models.ldamodel:too few updates, training might not converge; consider increasing the number of passes or iterations to improve accuracy\n",
      "WARNING:gensim.models.ldamodel:too few updates, training might not converge; consider increasing the number of passes or iterations to improve accuracy\n",
      "WARNING:gensim.models.ldamodel:too few updates, training might not converge; consider increasing the number of passes or iterations to improve accuracy\n",
      "WARNING:gensim.models.ldamodel:too few updates, training might not converge; consider increasing the number of passes or iterations to improve accuracy\n",
      "WARNING:gensim.models.ldamodel:too few updates, training might not converge; consider increasing the number of passes or iterations to improve accuracy\n",
      "WARNING:gensim.models.ldamodel:too few updates, training might not converge; consider increasing the number of passes or iterations to improve accuracy\n",
      "WARNING:gensim.models.ldamodel:too few updates, training might not converge; consider increasing the number of passes or iterations to improve accuracy\n",
      "WARNING:gensim.models.ldamodel:too few updates, training might not converge; consider increasing the number of passes or iterations to improve accuracy\n",
      "WARNING:gensim.models.ldamodel:too few updates, training might not converge; consider increasing the number of passes or iterations to improve accuracy\n",
      "WARNING:gensim.models.ldamodel:too few updates, training might not converge; consider increasing the number of passes or iterations to improve accuracy\n",
      "WARNING:gensim.models.ldamodel:too few updates, training might not converge; consider increasing the number of passes or iterations to improve accuracy\n",
      "WARNING:gensim.models.ldamodel:too few updates, training might not converge; consider increasing the number of passes or iterations to improve accuracy\n",
      "WARNING:gensim.models.ldamodel:too few updates, training might not converge; consider increasing the number of passes or iterations to improve accuracy\n",
      "WARNING:gensim.models.ldamodel:too few updates, training might not converge; consider increasing the number of passes or iterations to improve accuracy\n",
      "WARNING:gensim.models.ldamodel:too few updates, training might not converge; consider increasing the number of passes or iterations to improve accuracy\n",
      "WARNING:gensim.models.ldamodel:too few updates, training might not converge; consider increasing the number of passes or iterations to improve accuracy\n",
      "WARNING:gensim.models.ldamodel:too few updates, training might not converge; consider increasing the number of passes or iterations to improve accuracy\n",
      "WARNING:gensim.models.ldamodel:too few updates, training might not converge; consider increasing the number of passes or iterations to improve accuracy\n",
      "WARNING:gensim.models.ldamodel:too few updates, training might not converge; consider increasing the number of passes or iterations to improve accuracy\n",
      "WARNING:gensim.models.ldamodel:too few updates, training might not converge; consider increasing the number of passes or iterations to improve accuracy\n",
      "WARNING:gensim.models.ldamodel:too few updates, training might not converge; consider increasing the number of passes or iterations to improve accuracy\n",
      "WARNING:gensim.models.ldamodel:too few updates, training might not converge; consider increasing the number of passes or iterations to improve accuracy\n",
      "WARNING:gensim.models.ldamodel:too few updates, training might not converge; consider increasing the number of passes or iterations to improve accuracy\n",
      "WARNING:gensim.models.ldamodel:too few updates, training might not converge; consider increasing the number of passes or iterations to improve accuracy\n",
      "WARNING:gensim.models.ldamodel:too few updates, training might not converge; consider increasing the number of passes or iterations to improve accuracy\n",
      "WARNING:gensim.models.ldamodel:too few updates, training might not converge; consider increasing the number of passes or iterations to improve accuracy\n",
      "WARNING:gensim.models.ldamodel:too few updates, training might not converge; consider increasing the number of passes or iterations to improve accuracy\n",
      "WARNING:gensim.models.ldamodel:too few updates, training might not converge; consider increasing the number of passes or iterations to improve accuracy\n",
      "WARNING:gensim.models.ldamodel:too few updates, training might not converge; consider increasing the number of passes or iterations to improve accuracy\n",
      "WARNING:gensim.models.ldamodel:too few updates, training might not converge; consider increasing the number of passes or iterations to improve accuracy\n",
      "WARNING:gensim.models.ldamodel:too few updates, training might not converge; consider increasing the number of passes or iterations to improve accuracy\n",
      "WARNING:gensim.models.ldamodel:too few updates, training might not converge; consider increasing the number of passes or iterations to improve accuracy\n"
     ]
    },
    {
     "data": {
      "image/png": "[encoded data removed]",
      "text/plain": [
       "<matplotlib.figure.Figure at 0x10d4e6160>"
      ]
     },
     "metadata": {},
     "output_type": "display_data"
    }
   ],
   "source": [
    "# I am trying to do the same thing for LDA, but seems like it doesn't fall...\n",
    "# Also I do it with a \n",
    "lda_span = []\n",
    "for k in range(1, 50):\n",
    "    _lda = models.LdaModel(tfidf_corpus, id2word=dictionary, num_topics=k*5)\n",
    "    # Show the result of each document projected into the latent space.\n",
    "    corpus_lda = _lda[tfidf_corpus]\n",
    "    used_topics = set()\n",
    "    for i, c_lda in enumerate(corpus_lda):\n",
    "        # find max probability topic for each doc\n",
    "        max_tuple = max(c_lda, key=lambda x: x[1])\n",
    "        used_topics.add(max_tuple[0])\n",
    "    \n",
    "    lda_span.append(len(used_topics))\n",
    "    \n",
    "# import matplotlib.pyplot as plt\n",
    "# %matplotlib inline  \n",
    "plt.plot(lda_span)\n",
    "plt.show()"
   ]
  },
  {
   "cell_type": "code",
   "execution_count": 364,
   "metadata": {
    "collapsed": false
   },
   "outputs": [
    {
     "name": "stderr",
     "output_type": "stream",
     "text": [
      "WARNING:gensim.models.ldamodel:too few updates, training might not converge; consider increasing the number of passes or iterations to improve accuracy\n"
     ]
    }
   ],
   "source": [
    "lda = models.LdaModel(tfidf_corpus, num_topics=120, id2word=dictionary)"
   ]
  },
  {
   "cell_type": "code",
   "execution_count": 365,
   "metadata": {
    "collapsed": false
   },
   "outputs": [
    {
     "data": {
      "text/plain": [
       "[(111,\n",
       "  '0.002*job + 0.002*iraq + 0.002*program + 0.002*today + 0.002*iraqi + 0.002*help + 0.001*tonight + 0.001*terrorist + 0.001*achiev + 0.001*communist'),\n",
       " (86,\n",
       "  '0.002*mexico + 0.001*cabl + 0.001*mexican + 0.001*1847 + 0.001*1846 + 0.001*territori + 0.001*steamer + 0.001*indemn + 0.001*ironclad + 0.001*telegraph'),\n",
       " (45,\n",
       "  '0.002*sea-men + 0.001*natchez + 0.001*esq. + 0.001*commission + 0.001*cathol + 0.001*french + 0.001*majesti + 0.001*algier + 0.001*country-men + 0.001*regenc'),\n",
       " (4,\n",
       "  '0.003*wool + 0.002*kid + 0.002*markwel + 0.002*tonight + 0.002*1911 + 0.001*statut + 0.001*panama + 0.001*anti-trust + 0.001*drug-fre + 0.001*today'),\n",
       " (21,\n",
       "  '0.001*nontax + 0.001*mandamu + 0.001*royalti + 0.001*hinder + 0.001*bushel + 0.001*circuit + 0.001*valuat + 0.001*tariff + 0.001*centum + 0.001*reclam'),\n",
       " (25,\n",
       "  '0.002*seventi + 0.002*clean + 0.002*program + 0.001*wool + 0.001*sheep + 0.001*tariff + 0.001*air + 0.001*today + 0.001*blame + 0.001*america'),\n",
       " (87,\n",
       "  '0.003*program + 0.002*communist + 0.002*atom + 0.001*1951 + 0.001*help + 0.001*laugh + 0.001*korea + 0.001*disarma + 0.001*curtain + 0.001*fight'),\n",
       " (66,\n",
       "  '0.003*1973 + 0.002*soviet + 0.002*domingo + 0.002*program + 0.001*san + 0.001*goal + 0.001*spend + 0.001*texa + 0.001*plagu + 0.001*i.e.'),\n",
       " (27,\n",
       "  '0.000*timidli + 0.000*label + 0.000*partit + 0.000*importantli + 0.000*rid + 0.000*arabl + 0.000*thirty-two + 0.000*paint + 0.000*blot + 0.000*178'),\n",
       " (32,\n",
       "  '0.002*unrest + 0.001*antagon + 0.001*dyestuff + 0.001*storag + 0.001*interst + 0.001*programm + 0.000*enmiti + 0.000*workman + 0.000*malevol + 0.000*shipment')]"
      ]
     },
     "execution_count": 365,
     "metadata": {},
     "output_type": "execute_result"
    }
   ],
   "source": [
    "sample( lda.show_topics(),10)"
   ]
  },
  {
   "cell_type": "code",
   "execution_count": 366,
   "metadata": {
    "collapsed": false
   },
   "outputs": [],
   "source": [
    "lda_corpus = lda[tfidf_corpus]"
   ]
  },
  {
   "cell_type": "code",
   "execution_count": 391,
   "metadata": {
    "collapsed": false
   },
   "outputs": [],
   "source": [
    "# this section is used to show the year and index of the speech so I can check the content in the \n",
    "# speech.\n",
    "\n",
    "target_topic = 32\n",
    "for i, lda_c in enumerate(lda_corpus):\n",
    "    found = [l for l in lda_c if l[0] == target_topic and l[1] >= 0.05]\n",
    "    if found:\n",
    "        print(\"id: {}, year: {}-{}\".format(i, years[i], str(lda_c)))\n",
    "        print('')"
   ]
  },
  {
   "cell_type": "code",
   "execution_count": 360,
   "metadata": {
    "collapsed": false
   },
   "outputs": [
    {
     "data": {
      "text/plain": [
       "[('program', 0.0012172184975938435),\n",
       " ('help', 0.00086510351967477098),\n",
       " ('tonight', 0.00085968305284827185),\n",
       " ('today', 0.0007498672695697955),\n",
       " ('goal', 0.00073202147911998936),\n",
       " ('america', 0.00073006524339202595),\n",
       " ('job', 0.00066311048009848892),\n",
       " ('kid', 0.00057308696027047511),\n",
       " ('technolog', 0.00054327639582105495),\n",
       " ('percent', 0.00053139059857752107)]"
      ]
     },
     "execution_count": 360,
     "metadata": {},
     "output_type": "execute_result"
    }
   ],
   "source": [
    "lda.show_topic(20)"
   ]
  },
  {
   "cell_type": "markdown",
   "metadata": {},
   "source": [
    "# How topics of speeches have changed over time?\n",
    "use LDA and group after modeling."
   ]
  },
  {
   "cell_type": "code",
   "execution_count": 463,
   "metadata": {
    "collapsed": false
   },
   "outputs": [
    {
     "name": "stdout",
     "output_type": "stream",
     "text": [
      "1901:\n",
      "['anarchist', 'forest', 'embargo', 'wage-work', 'suspens', 'decre', 'interst', 'deforest', 'edict', 'corpor']\n",
      "['lake', 'get', 'tribe', 'tell', 'help', 'forest', 'eri', 'yeltsin', 'tonight', 'job']\n",
      "['barrel', 'oil', '1869', 'cabl', 'texa', 'billion', 'program', 'quick', 'spain', 'per']\n",
      "['1911', '1859', '1910', '1876', 'slave', '1912', 'estim', 'montenegro', 'auditor', 'zelaya']\n",
      "['cabl', 'commission', 'captur', 'damag', 'philadelphia', 'french', 'holland', 'corpor', 'gentlemen', 'consul']\n",
      "['spain', 'cathol', 'inflat', 'polygami', 'explan', 'ratifi', 'treati', 'job', 'minist', 'appoint']\n",
      "['democraci', 'float', 'storag', 'silver', '1891', 'gerrymand', 'elector', 'vessel', 'method', 'isthmu']\n",
      "\n",
      "1911:\n",
      "['barrel', 'oil', '1869', 'cabl', 'texa', 'billion', 'program', 'quick', 'spain', 'per']\n",
      "['program', 'nomine', '1832', 'huerta', 'farmer', 'election', 'royal', 'beg', 'instal', 'payabl']\n",
      "['democraci', 'float', 'storag', 'silver', '1891', 'gerrymand', 'elector', 'vessel', 'method', 'isthmu']\n",
      "['vietnam', 'kappel', 'tonight', 'self-possess', '1968', 'surtax', 'jealou', 'nixon', 'president-elect', 'spent']\n",
      "['...', 'program', 'iraq', '1947', 'terrorist', '1945', 'reconvers', 'atom', 'submarin', 'drug']\n",
      "['interst', 'eight-hour', 'railway', 'emancip', 'argu', 'concert', 'arbitr', \"commission'\", 'lodgment', 'membership']\n",
      "['92d', 'subscript', 'enemi', 'goal', 'savag', 'british', 'door', 'kansa', 'florin', 'well-dispos']\n",
      "\n",
      "1921:\n",
      "['barrel', 'oil', '1869', 'cabl', 'texa', 'billion', 'program', 'quick', 'spain', 'per']\n",
      "['coinag', 'kansa', 'lewi', 'silver', 'messrs.', 'clark', '1858', 'coin', 'freeman', '1857']\n",
      "['per', '1869', 'cent', 'circul', 'washburn', 'currenc', 'counti', '1871', 'silver', 'rebellion']\n",
      "['nontax', 'mandamu', 'royalti', 'hinder', 'bushel', 'circuit', 'valuat', 'tariff', 'centum', 'reclam']\n",
      "['bank', 'texa', 'mexico', 'program', 'pared', 'deficit', 'communist', 'statutori', 'unemploy', 'initi']\n",
      "['...', 'program', 'iraq', '1947', 'terrorist', '1945', 'reconvers', 'atom', 'submarin', 'drug']\n",
      "['ministri', 'flood', 'dike', 'california', 'french', 'kossuth', 'agricultur', 'joint-stock', 'texa', 'mile']\n",
      "\n",
      "1931:\n",
      "['bargain', 'program', '1946', 'veteran', 'worker', 'group', 'atom', 'budget', '1947.', 'incom']\n",
      "['ostrich', 'felic', 'coloni', 'port', 'dictatorship', 'precept', 'slave', 'recollect', 'augment', 'cort']\n",
      "['bank', 'texa', 'mexico', 'program', 'pared', 'deficit', 'communist', 'statutori', 'unemploy', 'initi']\n",
      "['recoveri', 'insurg', 'hire', 'circuit', 'structur', 'ethic', 'exploit', 'readjust', '1861', 'insurrect']\n",
      "['1932', '66', '69', '60.0', '67.8', '27', '1931', '32', '78', '72']\n",
      "['democraci', 'underproduct', 'recoveri', 'problem', 'oligarchi', 'tenant', 'task', 'modern', 'farm', 'unemploy']\n",
      "['barrel', 'oil', '1869', 'cabl', 'texa', 'billion', 'program', 'quick', 'spain', 'per']\n",
      "\n",
      "1941:\n",
      "['...', 'program', 'iraq', '1947', 'terrorist', '1945', 'reconvers', 'atom', 'submarin', 'drug']\n",
      "['democraci', 'float', 'storag', 'silver', '1891', 'gerrymand', 'elector', 'vessel', 'method', 'isthmu']\n",
      "['bargain', 'program', '1946', 'veteran', 'worker', 'group', 'atom', 'budget', '1947.', 'incom']\n",
      "['hitler', '1886', '1942', 'nazi', 'japanes', 'fight', 'indian', 'pension', '1943', 'gentlemen']\n",
      "['barrel', 'oil', '1869', 'cabl', 'texa', 'billion', 'program', 'quick', 'spain', 'per']\n",
      "['1914', 'materiel', 'dictat', 'today', 'democraci', 'democrat', 'aggressor', 'partisanship', 'appeas', 'schedul']\n",
      "['1942', 'axi', 'hat', 'japanes', 'midway', 'seventy-eighth', 'plane', '1941', 'fight', 'flier']\n",
      "\n",
      "1951:\n",
      "['...', 'program', 'iraq', '1947', 'terrorist', '1945', 'reconvers', 'atom', 'submarin', 'drug']\n",
      "['program', 'nomine', '1832', 'huerta', 'farmer', 'election', 'royal', 'beg', 'instal', 'payabl']\n",
      "['bank', 'texa', 'mexico', 'program', 'pared', 'deficit', 'communist', 'statutori', 'unemploy', 'initi']\n",
      "['soviet', 'missil', 'ballist', 'communist', 'program', 'disarma', 'weapon', 'strength', 'deterr', 'imperialist']\n",
      "['tonight', 'award', 'majesti', 'budget', 'space', 'drug', 'help', 'arbitr', 'steel', 'billion']\n",
      "['barrel', 'oil', '1869', 'cabl', 'texa', 'billion', 'program', 'quick', 'spain', 'per']\n",
      "['job', 'tonight', 'cut', 'deficit', 'percent', 'budget', 'parent', 'help', 'program', 'school']\n",
      "\n",
      "1961:\n",
      "['job', 'tonight', 'cut', 'deficit', 'percent', 'budget', 'parent', 'help', 'program', 'school']\n",
      "['vietnam', 'kappel', 'tonight', 'self-possess', '1968', 'surtax', 'jealou', 'nixon', 'president-elect', 'spent']\n",
      "['1827', 'billion', 'program', 'tonight', 'job', 'budget', '1826', 'percent', 'spend', 'soviet']\n",
      "['...', 'program', 'iraq', '1947', 'terrorist', '1945', 'reconvers', 'atom', 'submarin', 'drug']\n",
      "['1964', 'poverti', 'railway', 'job', 'help', 'program', 'nurs', 'unemploy', '1963', 'overtim']\n",
      "['barrel', 'oil', '1869', 'cabl', 'texa', 'billion', 'program', 'quick', 'spain', 'per']\n",
      "['92d', 'subscript', 'enemi', 'goal', 'savag', 'british', 'door', 'kansa', 'florin', 'well-dispos']\n",
      "\n",
      "1971:\n",
      "['barrel', 'oil', '1869', 'cabl', 'texa', 'billion', 'program', 'quick', 'spain', 'per']\n",
      "['spain', 'cathol', 'inflat', 'polygami', 'explan', 'ratifi', 'treati', 'job', 'minist', 'appoint']\n",
      "['job', 'tonight', 'cut', 'deficit', 'percent', 'budget', 'parent', 'help', 'program', 'school']\n",
      "['92d', 'subscript', 'enemi', 'goal', 'savag', 'british', 'door', 'kansa', 'florin', 'well-dispos']\n",
      "['1973', 'soviet', 'domingo', 'program', 'san', 'goal', 'spend', 'texa', 'plagu', 'i.e.']\n",
      "['tonight', '1974', 'job', 'america', 'privaci', 'saddam', 'program', 'today', 'get', 'iraq']\n",
      "['...', 'program', 'iraq', '1947', 'terrorist', '1945', 'reconvers', 'atom', 'submarin', 'drug']\n",
      "\n",
      "1981:\n",
      "['tonight', 'sandinista', 'let', 'iraqi', 'america', 'global', 'budget', 'terrorist', 'technolog', 'help']\n",
      "['job', 'tonight', 'cut', 'deficit', 'percent', 'budget', 'parent', 'help', 'program', 'school']\n",
      "['tonight', 'award', 'majesti', 'budget', 'space', 'drug', 'help', 'arbitr', 'steel', 'billion']\n",
      "['1827', 'billion', 'program', 'tonight', 'job', 'budget', '1826', 'percent', 'spend', 'soviet']\n",
      "['nurs', 'job', '1944', 'japanes', 'german', 'nazi', 'victori', 'deregul', 'dream', 'tonight']\n",
      "['dream', 'tonight', 'music', 'trevor', 'budget', 'gramm-rudman-hol', 'tyron', 'emancip', 'america', 'program']\n",
      "['...', 'program', 'iraq', '1947', 'terrorist', '1945', 'reconvers', 'atom', 'submarin', 'drug']\n",
      "\n",
      "1991:\n",
      "['job', 'tonight', 'cut', 'deficit', 'percent', 'budget', 'parent', 'help', 'program', 'school']\n",
      "['tonight', 'sandinista', 'let', 'iraqi', 'america', 'global', 'budget', 'terrorist', 'technolog', 'help']\n",
      "['lake', 'get', 'tribe', 'tell', 'help', 'forest', 'eri', 'yeltsin', 'tonight', 'job']\n",
      "['tonight', '1974', 'job', 'america', 'privaci', 'saddam', 'program', 'today', 'get', 'iraq']\n",
      "['challeng', 'greytown', 'savag', 'enemi', 'cyan', 'armistic', 'british', 'children', 'command', 'detroit']\n",
      "['...', 'program', 'iraq', '1947', 'terrorist', '1945', 'reconvers', 'atom', 'submarin', 'drug']\n",
      "['barrel', 'oil', '1869', 'cabl', 'texa', 'billion', 'program', 'quick', 'spain', 'per']\n",
      "\n",
      "2001:\n",
      "['tonight', 'sandinista', 'let', 'iraqi', 'america', 'global', 'budget', 'terrorist', 'technolog', 'help']\n",
      "['job', 'tonight', 'cut', 'deficit', 'percent', 'budget', 'parent', 'help', 'program', 'school']\n",
      "['...', 'program', 'iraq', '1947', 'terrorist', '1945', 'reconvers', 'atom', 'submarin', 'drug']\n",
      "['92d', 'subscript', 'enemi', 'goal', 'savag', 'british', 'door', 'kansa', 'florin', 'well-dispos']\n",
      "['terrorist', 'al-qaida', 'terror', 'tonight', 'islam', 'muslim', 'taliban', 'afghanistan', 'grief', 'beamer']\n",
      "['barrel', 'oil', '1869', 'cabl', 'texa', 'billion', 'program', 'quick', 'spain', 'per']\n",
      "['communist', 'saddam', 'hussein', 'atom', 'soviet', 'chickamauga', 'iraq', 'weapon', 'qaida', 'terrorist']\n",
      "\n",
      "2011:\n",
      "['tonight', '1974', 'job', 'america', 'privaci', 'saddam', 'program', 'today', 'get', 'iraq']\n",
      "['job', 'tonight', 'cut', 'deficit', 'percent', 'budget', 'parent', 'help', 'program', 'school']\n",
      "['tonight', 'sandinista', 'let', 'iraqi', 'america', 'global', 'budget', 'terrorist', 'technolog', 'help']\n",
      "['92d', 'subscript', 'enemi', 'goal', 'savag', 'british', 'door', 'kansa', 'florin', 'well-dispos']\n",
      "['job', '1824', 'lobbyist', 'clean', 'middle-class', 'trillion', 'tonight', 'astronom', 'decad', 'deficit']\n",
      "['...', 'program', 'iraq', '1947', 'terrorist', '1945', 'reconvers', 'atom', 'submarin', 'drug']\n",
      "['barrel', 'oil', '1869', 'cabl', 'texa', 'billion', 'program', 'quick', 'spain', 'per']\n",
      "\n"
     ]
    }
   ],
   "source": [
    "from math import floor\n",
    "# in a decade, we sum up the probabilities of the same topics and show text from top 5, \n",
    "# excluding the topic that all decades have in common\n",
    "\n",
    "# the index that starts from 1901\n",
    "yidx = 112\n",
    "\n",
    "# save the index for data of that bucket,\n",
    "# some times there are more than 10 state of the union speech\n",
    "# solution: use 190 as key for 1901-1910 data. \n",
    "# some special cases are manually solved already.\n",
    "decade_bucket = {}\n",
    "\n",
    "# put all the indices into this bucket and we can work with\n",
    "# this bucket later\n",
    "while yidx < len(years):\n",
    "    decade_key = floor((int(years[yidx]) - 1)/10)\n",
    "    if not decade_key in decade_bucket:\n",
    "        decade_bucket[decade_key] = [yidx]\n",
    "    else:\n",
    "        decade_bucket[decade_key].append(yidx)\n",
    "    yidx += 1\n",
    "\n",
    "\n",
    "# we do calculation for each decade\n",
    "for decade in sorted(decade_bucket.keys()) :\n",
    "    \n",
    "    print(\"{}:\".format(decade*10 + 1))\n",
    "    # a list of indices\n",
    "    decade_data = decade_bucket[decade]\n",
    "    \n",
    "    # key value pair, key: topic id, value: sum of topic probability\n",
    "    decade_topics = {}\n",
    "    \n",
    "    for idx in decade_data:\n",
    "        topic = lda_corpus[idx]\n",
    "        for t in topic:\n",
    "            if not t[0] in decade_topics:\n",
    "                decade_topics[t[0]] = t[1]\n",
    "            else:\n",
    "                decade_topics[t[0]] += t[1]\n",
    "\n",
    "    # find the top 5 topics\n",
    "    top_topics = sorted( list(decade_topics.items()), key=lambda x: x[1], reverse=True)[0:8]\n",
    "    top_topics = [t for t in top_topics if t[0] != 111]\n",
    "    \n",
    "    decade_words = []\n",
    "    for t in top_topics:\n",
    "        words = lda.show_topic(t[0])\n",
    "        words = [w[0] for w in words]\n",
    "        print(words)\n",
    "        # decade_words.extend(words)\n",
    "    \n",
    "    # because it's for my own observation, so I remove duplicate words...\n",
    "    # print(', '.join(set(decade_words)))\n",
    "    print('')\n",
    "    "
   ]
  },
  {
   "cell_type": "code",
   "execution_count": 440,
   "metadata": {
    "collapsed": false
   },
   "outputs": [],
   "source": [
    "years[121] = '1910'"
   ]
  },
  {
   "cell_type": "markdown",
   "metadata": {},
   "source": [
    "# Questions\n",
    "1. What are the dots: ... in the documents?\n",
    "ANS: I think it's where the speaker is reading a lot of data...\n",
    "2. Try to plot all top three topics\n",
    "3. What is esq."
   ]
  }
 ],
 "metadata": {
  "kernelspec": {
   "display_name": "Python 3",
   "language": "python",
   "name": "python3"
  },
  "language_info": {
   "codemirror_mode": {
    "name": "ipython",
    "version": 3
   },
   "file_extension": ".py",
   "mimetype": "text/x-python",
   "name": "python",
   "nbconvert_exporter": "python",
   "pygments_lexer": "ipython3",
   "version": "3.5.1"
  }
 },
 "nbformat": 4,
 "nbformat_minor": 0
}
